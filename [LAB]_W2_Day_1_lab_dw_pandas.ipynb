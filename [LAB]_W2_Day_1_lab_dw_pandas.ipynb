{
  "cells": [
    {
      "cell_type": "markdown",
      "id": "25d7736c-ba17-4aff-b6bb-66eba20fbf4e",
      "metadata": {
        "id": "25d7736c-ba17-4aff-b6bb-66eba20fbf4e"
      },
      "source": [
        "# Lab | Pandas"
      ]
    },
    {
      "cell_type": "markdown",
      "id": "d1973e9e-8be6-4039-b70e-d73ee0d94c99",
      "metadata": {
        "id": "d1973e9e-8be6-4039-b70e-d73ee0d94c99"
      },
      "source": [
        "In this lab, we will be working with the customer data from an insurance company, which can be found in the CSV file located at the following link: https://raw.githubusercontent.com/data-bootcamp-v4/data/main/file1.csv\n",
        "\n",
        "The data includes information such as customer ID, state, gender, education, income, and other variables that can be used to perform various analyses.\n",
        "\n",
        "Throughout the lab, we will be using the pandas library in Python to manipulate and analyze the data. Pandas is a powerful library that provides various data manipulation and analysis tools, including the ability to load and manipulate data from a variety of sources, including CSV files."
      ]
    },
    {
      "cell_type": "markdown",
      "id": "8045146f-f4f7-44d9-8cd9-130d6400c73a",
      "metadata": {
        "id": "8045146f-f4f7-44d9-8cd9-130d6400c73a"
      },
      "source": [
        "### Data Description\n",
        "\n",
        "- Customer - Customer ID\n",
        "\n",
        "- ST - State where customers live\n",
        "\n",
        "- Gender - Gender of the customer\n",
        "\n",
        "- Education - Background education of customers\n",
        "\n",
        "- Customer Lifetime Value - Customer lifetime value(CLV) is the total revenue the client will derive from their entire relationship with a customer. In other words, is the predicted or calculated value of a customer over their entire duration as a policyholder with the insurance company. It is an estimation of the net profit that the insurance company expects to generate from a customer throughout their relationship with the company. Customer Lifetime Value takes into account factors such as the duration of the customer's policy, premium payments, claim history, renewal likelihood, and potential additional services or products the customer may purchase. It helps insurers assess the long-term profitability and value associated with retaining a particular customer.\n",
        "\n",
        "- Income - Customers income\n",
        "\n",
        "- Monthly Premium Auto - Amount of money the customer pays on a monthly basis as a premium for their auto insurance coverage. It represents the recurring cost that the insured person must pay to maintain their insurance policy and receive coverage for potential damages, accidents, or other covered events related to their vehicle.\n",
        "\n",
        "- Number of Open Complaints - Number of complaints the customer opened\n",
        "\n",
        "- Policy Type - There are three type of policies in car insurance (Corporate Auto, Personal Auto, and Special Auto)\n",
        "\n",
        "- Vehicle Class - Type of vehicle classes that customers have Two-Door Car, Four-Door Car SUV, Luxury SUV, Sports Car, and Luxury Car\n",
        "\n",
        "- Total Claim Amount - the sum of all claims made by the customer. It represents the total monetary value of all approved claims for incidents such as accidents, theft, vandalism, or other covered events.\n"
      ]
    },
    {
      "cell_type": "markdown",
      "id": "3a72419b-20fc-4905-817a-8c83abc59de6",
      "metadata": {
        "id": "3a72419b-20fc-4905-817a-8c83abc59de6"
      },
      "source": [
        "External Resources: https://towardsdatascience.com/filtering-data-frames-in-pandas-b570b1f834b9"
      ]
    },
    {
      "cell_type": "markdown",
      "id": "8f8ece17-e919-4e23-96c0-c7c59778436a",
      "metadata": {
        "id": "8f8ece17-e919-4e23-96c0-c7c59778436a"
      },
      "source": [
        "## Challenge 1: Understanding the data\n",
        "\n",
        "In this challenge, you will use pandas to explore a given dataset. Your task is to gain a deep understanding of the data by analyzing its characteristics, dimensions, and statistical properties."
      ]
    },
    {
      "cell_type": "markdown",
      "id": "91437bd5-59a6-49c0-8150-ef0e6e6eb253",
      "metadata": {
        "id": "91437bd5-59a6-49c0-8150-ef0e6e6eb253"
      },
      "source": [
        "- Identify the dimensions of the dataset by determining the number of rows and columns it contains.\n",
        "- Determine the data types of each column and evaluate whether they are appropriate for the nature of the variable. You should also provide suggestions for fixing any incorrect data types.\n",
        "- Identify the number of unique values for each column and determine which columns appear to be categorical. You should also describe the unique values of each categorical column and the range of values for numerical columns, and give your insights.\n",
        "- Compute summary statistics such as mean, median, mode, standard deviation, and quartiles to understand the central tendency and distribution of the data for numerical columns. You should also provide your conclusions based on these summary statistics.\n",
        "- Compute summary statistics for categorical columns and providing your conclusions based on these statistics."
      ]
    },
    {
      "cell_type": "markdown",
      "source": [
        "## Understanding the data"
      ],
      "metadata": {
        "id": "v35UlSQ8y5yP"
      },
      "id": "v35UlSQ8y5yP"
    },
    {
      "cell_type": "code",
      "source": [
        "# Step 0: import pandas library\n",
        "\n",
        "import pandas as pd"
      ],
      "metadata": {
        "id": "IZanwoAKzOOx"
      },
      "id": "IZanwoAKzOOx",
      "execution_count": null,
      "outputs": []
    },
    {
      "cell_type": "code",
      "execution_count": null,
      "id": "dd4e8cd8-a6f6-486c-a5c4-1745b0c035f4",
      "metadata": {
        "colab": {
          "base_uri": "https://localhost:8080/",
          "height": 258
        },
        "id": "dd4e8cd8-a6f6-486c-a5c4-1745b0c035f4",
        "outputId": "ab969cf8-37cd-4f2f-9601-12a53b85a923"
      },
      "outputs": [
        {
          "output_type": "execute_result",
          "data": {
            "text/plain": [
              "  Customer          ST GENDER             Education Customer Lifetime Value  \\\n",
              "0  RB50392  Washington    NaN                Master                     NaN   \n",
              "1  QZ44356     Arizona      F              Bachelor              697953.59%   \n",
              "2  AI49188      Nevada      F              Bachelor             1288743.17%   \n",
              "3  WW63253  California      M              Bachelor              764586.18%   \n",
              "4  GA49547  Washington      M  High School or Below              536307.65%   \n",
              "\n",
              "    Income  Monthly Premium Auto Number of Open Complaints     Policy Type  \\\n",
              "0      0.0                1000.0                    1/0/00   Personal Auto   \n",
              "1      0.0                  94.0                    1/0/00   Personal Auto   \n",
              "2  48767.0                 108.0                    1/0/00   Personal Auto   \n",
              "3      0.0                 106.0                    1/0/00  Corporate Auto   \n",
              "4  36357.0                  68.0                    1/0/00   Personal Auto   \n",
              "\n",
              "   Vehicle Class  Total Claim Amount  \n",
              "0  Four-Door Car            2.704934  \n",
              "1  Four-Door Car         1131.464935  \n",
              "2   Two-Door Car          566.472247  \n",
              "3            SUV          529.881344  \n",
              "4  Four-Door Car           17.269323  "
            ],
            "text/html": [
              "\n",
              "  <div id=\"df-b059e35b-8e91-471c-a464-2643993479a2\" class=\"colab-df-container\">\n",
              "    <div>\n",
              "<style scoped>\n",
              "    .dataframe tbody tr th:only-of-type {\n",
              "        vertical-align: middle;\n",
              "    }\n",
              "\n",
              "    .dataframe tbody tr th {\n",
              "        vertical-align: top;\n",
              "    }\n",
              "\n",
              "    .dataframe thead th {\n",
              "        text-align: right;\n",
              "    }\n",
              "</style>\n",
              "<table border=\"1\" class=\"dataframe\">\n",
              "  <thead>\n",
              "    <tr style=\"text-align: right;\">\n",
              "      <th></th>\n",
              "      <th>Customer</th>\n",
              "      <th>ST</th>\n",
              "      <th>GENDER</th>\n",
              "      <th>Education</th>\n",
              "      <th>Customer Lifetime Value</th>\n",
              "      <th>Income</th>\n",
              "      <th>Monthly Premium Auto</th>\n",
              "      <th>Number of Open Complaints</th>\n",
              "      <th>Policy Type</th>\n",
              "      <th>Vehicle Class</th>\n",
              "      <th>Total Claim Amount</th>\n",
              "    </tr>\n",
              "  </thead>\n",
              "  <tbody>\n",
              "    <tr>\n",
              "      <th>0</th>\n",
              "      <td>RB50392</td>\n",
              "      <td>Washington</td>\n",
              "      <td>NaN</td>\n",
              "      <td>Master</td>\n",
              "      <td>NaN</td>\n",
              "      <td>0.0</td>\n",
              "      <td>1000.0</td>\n",
              "      <td>1/0/00</td>\n",
              "      <td>Personal Auto</td>\n",
              "      <td>Four-Door Car</td>\n",
              "      <td>2.704934</td>\n",
              "    </tr>\n",
              "    <tr>\n",
              "      <th>1</th>\n",
              "      <td>QZ44356</td>\n",
              "      <td>Arizona</td>\n",
              "      <td>F</td>\n",
              "      <td>Bachelor</td>\n",
              "      <td>697953.59%</td>\n",
              "      <td>0.0</td>\n",
              "      <td>94.0</td>\n",
              "      <td>1/0/00</td>\n",
              "      <td>Personal Auto</td>\n",
              "      <td>Four-Door Car</td>\n",
              "      <td>1131.464935</td>\n",
              "    </tr>\n",
              "    <tr>\n",
              "      <th>2</th>\n",
              "      <td>AI49188</td>\n",
              "      <td>Nevada</td>\n",
              "      <td>F</td>\n",
              "      <td>Bachelor</td>\n",
              "      <td>1288743.17%</td>\n",
              "      <td>48767.0</td>\n",
              "      <td>108.0</td>\n",
              "      <td>1/0/00</td>\n",
              "      <td>Personal Auto</td>\n",
              "      <td>Two-Door Car</td>\n",
              "      <td>566.472247</td>\n",
              "    </tr>\n",
              "    <tr>\n",
              "      <th>3</th>\n",
              "      <td>WW63253</td>\n",
              "      <td>California</td>\n",
              "      <td>M</td>\n",
              "      <td>Bachelor</td>\n",
              "      <td>764586.18%</td>\n",
              "      <td>0.0</td>\n",
              "      <td>106.0</td>\n",
              "      <td>1/0/00</td>\n",
              "      <td>Corporate Auto</td>\n",
              "      <td>SUV</td>\n",
              "      <td>529.881344</td>\n",
              "    </tr>\n",
              "    <tr>\n",
              "      <th>4</th>\n",
              "      <td>GA49547</td>\n",
              "      <td>Washington</td>\n",
              "      <td>M</td>\n",
              "      <td>High School or Below</td>\n",
              "      <td>536307.65%</td>\n",
              "      <td>36357.0</td>\n",
              "      <td>68.0</td>\n",
              "      <td>1/0/00</td>\n",
              "      <td>Personal Auto</td>\n",
              "      <td>Four-Door Car</td>\n",
              "      <td>17.269323</td>\n",
              "    </tr>\n",
              "  </tbody>\n",
              "</table>\n",
              "</div>\n",
              "    <div class=\"colab-df-buttons\">\n",
              "\n",
              "  <div class=\"colab-df-container\">\n",
              "    <button class=\"colab-df-convert\" onclick=\"convertToInteractive('df-b059e35b-8e91-471c-a464-2643993479a2')\"\n",
              "            title=\"Convert this dataframe to an interactive table.\"\n",
              "            style=\"display:none;\">\n",
              "\n",
              "  <svg xmlns=\"http://www.w3.org/2000/svg\" height=\"24px\" viewBox=\"0 -960 960 960\">\n",
              "    <path d=\"M120-120v-720h720v720H120Zm60-500h600v-160H180v160Zm220 220h160v-160H400v160Zm0 220h160v-160H400v160ZM180-400h160v-160H180v160Zm440 0h160v-160H620v160ZM180-180h160v-160H180v160Zm440 0h160v-160H620v160Z\"/>\n",
              "  </svg>\n",
              "    </button>\n",
              "\n",
              "  <style>\n",
              "    .colab-df-container {\n",
              "      display:flex;\n",
              "      gap: 12px;\n",
              "    }\n",
              "\n",
              "    .colab-df-convert {\n",
              "      background-color: #E8F0FE;\n",
              "      border: none;\n",
              "      border-radius: 50%;\n",
              "      cursor: pointer;\n",
              "      display: none;\n",
              "      fill: #1967D2;\n",
              "      height: 32px;\n",
              "      padding: 0 0 0 0;\n",
              "      width: 32px;\n",
              "    }\n",
              "\n",
              "    .colab-df-convert:hover {\n",
              "      background-color: #E2EBFA;\n",
              "      box-shadow: 0px 1px 2px rgba(60, 64, 67, 0.3), 0px 1px 3px 1px rgba(60, 64, 67, 0.15);\n",
              "      fill: #174EA6;\n",
              "    }\n",
              "\n",
              "    .colab-df-buttons div {\n",
              "      margin-bottom: 4px;\n",
              "    }\n",
              "\n",
              "    [theme=dark] .colab-df-convert {\n",
              "      background-color: #3B4455;\n",
              "      fill: #D2E3FC;\n",
              "    }\n",
              "\n",
              "    [theme=dark] .colab-df-convert:hover {\n",
              "      background-color: #434B5C;\n",
              "      box-shadow: 0px 1px 3px 1px rgba(0, 0, 0, 0.15);\n",
              "      filter: drop-shadow(0px 1px 2px rgba(0, 0, 0, 0.3));\n",
              "      fill: #FFFFFF;\n",
              "    }\n",
              "  </style>\n",
              "\n",
              "    <script>\n",
              "      const buttonEl =\n",
              "        document.querySelector('#df-b059e35b-8e91-471c-a464-2643993479a2 button.colab-df-convert');\n",
              "      buttonEl.style.display =\n",
              "        google.colab.kernel.accessAllowed ? 'block' : 'none';\n",
              "\n",
              "      async function convertToInteractive(key) {\n",
              "        const element = document.querySelector('#df-b059e35b-8e91-471c-a464-2643993479a2');\n",
              "        const dataTable =\n",
              "          await google.colab.kernel.invokeFunction('convertToInteractive',\n",
              "                                                    [key], {});\n",
              "        if (!dataTable) return;\n",
              "\n",
              "        const docLinkHtml = 'Like what you see? Visit the ' +\n",
              "          '<a target=\"_blank\" href=https://colab.research.google.com/notebooks/data_table.ipynb>data table notebook</a>'\n",
              "          + ' to learn more about interactive tables.';\n",
              "        element.innerHTML = '';\n",
              "        dataTable['output_type'] = 'display_data';\n",
              "        await google.colab.output.renderOutput(dataTable, element);\n",
              "        const docLink = document.createElement('div');\n",
              "        docLink.innerHTML = docLinkHtml;\n",
              "        element.appendChild(docLink);\n",
              "      }\n",
              "    </script>\n",
              "  </div>\n",
              "\n",
              "\n",
              "<div id=\"df-48f58f8f-b22f-49dc-ac17-cd1d79af7fcf\">\n",
              "  <button class=\"colab-df-quickchart\" onclick=\"quickchart('df-48f58f8f-b22f-49dc-ac17-cd1d79af7fcf')\"\n",
              "            title=\"Suggest charts\"\n",
              "            style=\"display:none;\">\n",
              "\n",
              "<svg xmlns=\"http://www.w3.org/2000/svg\" height=\"24px\"viewBox=\"0 0 24 24\"\n",
              "     width=\"24px\">\n",
              "    <g>\n",
              "        <path d=\"M19 3H5c-1.1 0-2 .9-2 2v14c0 1.1.9 2 2 2h14c1.1 0 2-.9 2-2V5c0-1.1-.9-2-2-2zM9 17H7v-7h2v7zm4 0h-2V7h2v10zm4 0h-2v-4h2v4z\"/>\n",
              "    </g>\n",
              "</svg>\n",
              "  </button>\n",
              "\n",
              "<style>\n",
              "  .colab-df-quickchart {\n",
              "      --bg-color: #E8F0FE;\n",
              "      --fill-color: #1967D2;\n",
              "      --hover-bg-color: #E2EBFA;\n",
              "      --hover-fill-color: #174EA6;\n",
              "      --disabled-fill-color: #AAA;\n",
              "      --disabled-bg-color: #DDD;\n",
              "  }\n",
              "\n",
              "  [theme=dark] .colab-df-quickchart {\n",
              "      --bg-color: #3B4455;\n",
              "      --fill-color: #D2E3FC;\n",
              "      --hover-bg-color: #434B5C;\n",
              "      --hover-fill-color: #FFFFFF;\n",
              "      --disabled-bg-color: #3B4455;\n",
              "      --disabled-fill-color: #666;\n",
              "  }\n",
              "\n",
              "  .colab-df-quickchart {\n",
              "    background-color: var(--bg-color);\n",
              "    border: none;\n",
              "    border-radius: 50%;\n",
              "    cursor: pointer;\n",
              "    display: none;\n",
              "    fill: var(--fill-color);\n",
              "    height: 32px;\n",
              "    padding: 0;\n",
              "    width: 32px;\n",
              "  }\n",
              "\n",
              "  .colab-df-quickchart:hover {\n",
              "    background-color: var(--hover-bg-color);\n",
              "    box-shadow: 0 1px 2px rgba(60, 64, 67, 0.3), 0 1px 3px 1px rgba(60, 64, 67, 0.15);\n",
              "    fill: var(--button-hover-fill-color);\n",
              "  }\n",
              "\n",
              "  .colab-df-quickchart-complete:disabled,\n",
              "  .colab-df-quickchart-complete:disabled:hover {\n",
              "    background-color: var(--disabled-bg-color);\n",
              "    fill: var(--disabled-fill-color);\n",
              "    box-shadow: none;\n",
              "  }\n",
              "\n",
              "  .colab-df-spinner {\n",
              "    border: 2px solid var(--fill-color);\n",
              "    border-color: transparent;\n",
              "    border-bottom-color: var(--fill-color);\n",
              "    animation:\n",
              "      spin 1s steps(1) infinite;\n",
              "  }\n",
              "\n",
              "  @keyframes spin {\n",
              "    0% {\n",
              "      border-color: transparent;\n",
              "      border-bottom-color: var(--fill-color);\n",
              "      border-left-color: var(--fill-color);\n",
              "    }\n",
              "    20% {\n",
              "      border-color: transparent;\n",
              "      border-left-color: var(--fill-color);\n",
              "      border-top-color: var(--fill-color);\n",
              "    }\n",
              "    30% {\n",
              "      border-color: transparent;\n",
              "      border-left-color: var(--fill-color);\n",
              "      border-top-color: var(--fill-color);\n",
              "      border-right-color: var(--fill-color);\n",
              "    }\n",
              "    40% {\n",
              "      border-color: transparent;\n",
              "      border-right-color: var(--fill-color);\n",
              "      border-top-color: var(--fill-color);\n",
              "    }\n",
              "    60% {\n",
              "      border-color: transparent;\n",
              "      border-right-color: var(--fill-color);\n",
              "    }\n",
              "    80% {\n",
              "      border-color: transparent;\n",
              "      border-right-color: var(--fill-color);\n",
              "      border-bottom-color: var(--fill-color);\n",
              "    }\n",
              "    90% {\n",
              "      border-color: transparent;\n",
              "      border-bottom-color: var(--fill-color);\n",
              "    }\n",
              "  }\n",
              "</style>\n",
              "\n",
              "  <script>\n",
              "    async function quickchart(key) {\n",
              "      const quickchartButtonEl =\n",
              "        document.querySelector('#' + key + ' button');\n",
              "      quickchartButtonEl.disabled = true;  // To prevent multiple clicks.\n",
              "      quickchartButtonEl.classList.add('colab-df-spinner');\n",
              "      try {\n",
              "        const charts = await google.colab.kernel.invokeFunction(\n",
              "            'suggestCharts', [key], {});\n",
              "      } catch (error) {\n",
              "        console.error('Error during call to suggestCharts:', error);\n",
              "      }\n",
              "      quickchartButtonEl.classList.remove('colab-df-spinner');\n",
              "      quickchartButtonEl.classList.add('colab-df-quickchart-complete');\n",
              "    }\n",
              "    (() => {\n",
              "      let quickchartButtonEl =\n",
              "        document.querySelector('#df-48f58f8f-b22f-49dc-ac17-cd1d79af7fcf button');\n",
              "      quickchartButtonEl.style.display =\n",
              "        google.colab.kernel.accessAllowed ? 'block' : 'none';\n",
              "    })();\n",
              "  </script>\n",
              "</div>\n",
              "    </div>\n",
              "  </div>\n"
            ],
            "application/vnd.google.colaboratory.intrinsic+json": {
              "type": "dataframe",
              "variable_name": "customer_data",
              "summary": "{\n  \"name\": \"customer_data\",\n  \"rows\": 4008,\n  \"fields\": [\n    {\n      \"column\": \"Customer\",\n      \"properties\": {\n        \"dtype\": \"category\",\n        \"num_unique_values\": 1071,\n        \"samples\": [\n          \"AB13432\",\n          \"IU47468\",\n          \"GJ59592\"\n        ],\n        \"semantic_type\": \"\",\n        \"description\": \"\"\n      }\n    },\n    {\n      \"column\": \"ST\",\n      \"properties\": {\n        \"dtype\": \"category\",\n        \"num_unique_values\": 8,\n        \"samples\": [\n          \"Arizona\",\n          \"Cali\",\n          \"Washington\"\n        ],\n        \"semantic_type\": \"\",\n        \"description\": \"\"\n      }\n    },\n    {\n      \"column\": \"GENDER\",\n      \"properties\": {\n        \"dtype\": \"category\",\n        \"num_unique_values\": 5,\n        \"samples\": [\n          \"M\",\n          \"female\",\n          \"Femal\"\n        ],\n        \"semantic_type\": \"\",\n        \"description\": \"\"\n      }\n    },\n    {\n      \"column\": \"Education\",\n      \"properties\": {\n        \"dtype\": \"category\",\n        \"num_unique_values\": 6,\n        \"samples\": [\n          \"Master\",\n          \"Bachelor\",\n          \"Doctor\"\n        ],\n        \"semantic_type\": \"\",\n        \"description\": \"\"\n      }\n    },\n    {\n      \"column\": \"Customer Lifetime Value\",\n      \"properties\": {\n        \"dtype\": \"category\",\n        \"num_unique_values\": 1027,\n        \"samples\": [\n          \"2190391.36%\",\n          \"443441.12%\",\n          \"261302.31%\"\n        ],\n        \"semantic_type\": \"\",\n        \"description\": \"\"\n      }\n    },\n    {\n      \"column\": \"Income\",\n      \"properties\": {\n        \"dtype\": \"number\",\n        \"std\": 30469.427060401842,\n        \"min\": 0.0,\n        \"max\": 99960.0,\n        \"num_unique_values\": 774,\n        \"samples\": [\n          23105.0,\n          37722.0,\n          23220.0\n        ],\n        \"semantic_type\": \"\",\n        \"description\": \"\"\n      }\n    },\n    {\n      \"column\": \"Monthly Premium Auto\",\n      \"properties\": {\n        \"dtype\": \"number\",\n        \"std\": 1601.1903685776203,\n        \"min\": 61.0,\n        \"max\": 35354.0,\n        \"num_unique_values\": 132,\n        \"samples\": [\n          78.0,\n          225.0,\n          80.0\n        ],\n        \"semantic_type\": \"\",\n        \"description\": \"\"\n      }\n    },\n    {\n      \"column\": \"Number of Open Complaints\",\n      \"properties\": {\n        \"dtype\": \"category\",\n        \"num_unique_values\": 6,\n        \"samples\": [\n          \"1/0/00\",\n          \"1/2/00\",\n          \"1/4/00\"\n        ],\n        \"semantic_type\": \"\",\n        \"description\": \"\"\n      }\n    },\n    {\n      \"column\": \"Policy Type\",\n      \"properties\": {\n        \"dtype\": \"category\",\n        \"num_unique_values\": 3,\n        \"samples\": [\n          \"Personal Auto\",\n          \"Corporate Auto\",\n          \"Special Auto\"\n        ],\n        \"semantic_type\": \"\",\n        \"description\": \"\"\n      }\n    },\n    {\n      \"column\": \"Vehicle Class\",\n      \"properties\": {\n        \"dtype\": \"category\",\n        \"num_unique_values\": 6,\n        \"samples\": [\n          \"Four-Door Car\",\n          \"Two-Door Car\",\n          \"Luxury Car\"\n        ],\n        \"semantic_type\": \"\",\n        \"description\": \"\"\n      }\n    },\n    {\n      \"column\": \"Total Claim Amount\",\n      \"properties\": {\n        \"dtype\": \"number\",\n        \"std\": 293.02725992640416,\n        \"min\": 0.382107,\n        \"max\": 2893.239678,\n        \"num_unique_values\": 761,\n        \"samples\": [\n          467.503236,\n          878.4,\n          142.062768\n        ],\n        \"semantic_type\": \"\",\n        \"description\": \"\"\n      }\n    }\n  ]\n}"
            }
          },
          "metadata": {},
          "execution_count": 65
        }
      ],
      "source": [
        "# Step O_bis: import the dataset\n",
        "url = 'https://raw.githubusercontent.com/data-bootcamp-v4/data/main/file1.csv'\n",
        "customer_data = pd.read_csv(url)\n",
        "\n",
        "customer_data.head()"
      ]
    },
    {
      "cell_type": "code",
      "source": [
        "# Step 1: Identify the dimensions of the dataset by determining the number of rows and columns it contains.\n",
        "\n",
        "print(customer_data.shape)\n",
        "print(customer_data.shape[0])\n",
        "print(customer_data.shape[1])\n",
        "\n",
        "# --> 4008 rows\n",
        "# --> 11 columns"
      ],
      "metadata": {
        "colab": {
          "base_uri": "https://localhost:8080/"
        },
        "id": "Y77CMQVm0DHc",
        "outputId": "468fb187-4868-4b65-bf4d-88a467ec8453"
      },
      "id": "Y77CMQVm0DHc",
      "execution_count": null,
      "outputs": [
        {
          "output_type": "stream",
          "name": "stdout",
          "text": [
            "(4008, 11)\n",
            "4008\n",
            "11\n"
          ]
        }
      ]
    },
    {
      "cell_type": "code",
      "source": [
        "# Step 2: Determine the data types of each column and evaluate whether they are appropriate for the nature of the variable.\n",
        "# You should also provide suggestions for fixing any incorrect data types.\n",
        "\n",
        "print(customer_data.info())\n",
        "\n",
        "print('\\n')\n",
        "\n",
        "print(customer_data.dtypes)"
      ],
      "metadata": {
        "colab": {
          "base_uri": "https://localhost:8080/"
        },
        "id": "jPKJebnW0hGX",
        "outputId": "11f60ab1-f5a6-4a1a-e36c-e327ed3ef8ba"
      },
      "id": "jPKJebnW0hGX",
      "execution_count": null,
      "outputs": [
        {
          "output_type": "stream",
          "name": "stdout",
          "text": [
            "<class 'pandas.core.frame.DataFrame'>\n",
            "RangeIndex: 4008 entries, 0 to 4007\n",
            "Data columns (total 11 columns):\n",
            " #   Column                     Non-Null Count  Dtype  \n",
            "---  ------                     --------------  -----  \n",
            " 0   Customer                   1071 non-null   object \n",
            " 1   ST                         1071 non-null   object \n",
            " 2   GENDER                     954 non-null    object \n",
            " 3   Education                  1071 non-null   object \n",
            " 4   Customer Lifetime Value    1068 non-null   object \n",
            " 5   Income                     1071 non-null   float64\n",
            " 6   Monthly Premium Auto       1071 non-null   float64\n",
            " 7   Number of Open Complaints  1071 non-null   object \n",
            " 8   Policy Type                1071 non-null   object \n",
            " 9   Vehicle Class              1071 non-null   object \n",
            " 10  Total Claim Amount         1071 non-null   float64\n",
            "dtypes: float64(3), object(8)\n",
            "memory usage: 344.6+ KB\n",
            "None\n",
            "\n",
            "\n",
            "Customer                      object\n",
            "ST                            object\n",
            "GENDER                        object\n",
            "Education                     object\n",
            "Customer Lifetime Value       object\n",
            "Income                       float64\n",
            "Monthly Premium Auto         float64\n",
            "Number of Open Complaints     object\n",
            "Policy Type                   object\n",
            "Vehicle Class                 object\n",
            "Total Claim Amount           float64\n",
            "dtype: object\n"
          ]
        }
      ]
    },
    {
      "cell_type": "code",
      "source": [
        "# Observations:\n",
        "# - CLV is an object and not a float\n",
        "# - Number of Open Complaints is an object\n",
        "\n",
        "# Let's try to fix that:\n",
        "\n",
        "# 1) Transforming CLV to float format\n",
        "customer_data['Customer Lifetime Value'] = customer_data['Customer Lifetime Value'].str.strip('%').astype('float') / 100.0\n",
        "print(customer_data['Customer Lifetime Value'])\n",
        "print('\\n')\n",
        "print(customer_data['Customer Lifetime Value'].dtype)"
      ],
      "metadata": {
        "colab": {
          "base_uri": "https://localhost:8080/"
        },
        "id": "eeVMNwN215NE",
        "outputId": "ee351a1b-f71d-49cb-a59a-a525185ff54e"
      },
      "id": "eeVMNwN215NE",
      "execution_count": null,
      "outputs": [
        {
          "output_type": "stream",
          "name": "stdout",
          "text": [
            "0              NaN\n",
            "1        6979.5359\n",
            "2       12887.4317\n",
            "3        7645.8618\n",
            "4        5363.0765\n",
            "           ...    \n",
            "4003           NaN\n",
            "4004           NaN\n",
            "4005           NaN\n",
            "4006           NaN\n",
            "4007           NaN\n",
            "Name: Customer Lifetime Value, Length: 4008, dtype: float64\n",
            "\n",
            "\n",
            "float64\n"
          ]
        }
      ]
    },
    {
      "cell_type": "code",
      "source": [
        "# 2) Transforming Number of Open Complaints to int format\n",
        "# values for this column are like this: 1/0/00\n",
        "\n",
        "# Let's try to see the different kind of values we can have for this column:\n",
        "print(customer_data['Number of Open Complaints'].unique())\n",
        "print(customer_data['Number of Open Complaints'].nunique())\n",
        "print('\\n')\n",
        "\n",
        "# We can see here the the number of complaints is between 0 and 5\n",
        "# We'll try to focus on these numbers so we'll only keep them and convert them to integers:\n",
        "\n",
        "# Step 1 --> Keep only the middle digit\n",
        "customer_data['Number of Open Complaints'] = customer_data['Number of Open Complaints'].str.split('/').str[1]\n",
        "print(customer_data['Number of Open Complaints'])\n",
        "\n",
        "# We can see it works:\n",
        "print('\\n')\n",
        "print(customer_data['Number of Open Complaints'].unique())"
      ],
      "metadata": {
        "colab": {
          "base_uri": "https://localhost:8080/"
        },
        "id": "YhtKbTKf5gXT",
        "outputId": "c1fb0629-900e-4dc6-cb77-31f53cc65627"
      },
      "id": "YhtKbTKf5gXT",
      "execution_count": null,
      "outputs": [
        {
          "output_type": "stream",
          "name": "stdout",
          "text": [
            "['1/0/00' '1/2/00' '1/1/00' '1/3/00' '1/5/00' '1/4/00' nan]\n",
            "6\n",
            "\n",
            "\n",
            "0         0\n",
            "1         0\n",
            "2         0\n",
            "3         0\n",
            "4         0\n",
            "       ... \n",
            "4003    NaN\n",
            "4004    NaN\n",
            "4005    NaN\n",
            "4006    NaN\n",
            "4007    NaN\n",
            "Name: Number of Open Complaints, Length: 4008, dtype: object\n",
            "\n",
            "\n",
            "['0' '2' '1' '3' '5' '4' nan]\n"
          ]
        }
      ]
    },
    {
      "cell_type": "code",
      "source": [
        "# Step 2: convert to the integer format\n",
        "customer_data['Number of Open Complaints'] = pd.to_numeric(customer_data['Number of Open Complaints'], errors='coerce').astype('Int64')\n",
        "print(customer_data['Number of Open Complaints'])\n",
        "\n",
        "print('\\n')\n",
        "\n",
        "print(customer_data['Number of Open Complaints'].dtype)"
      ],
      "metadata": {
        "colab": {
          "base_uri": "https://localhost:8080/"
        },
        "id": "5fEmXxoF-Dct",
        "outputId": "6b92cc70-3d82-4db2-ff49-1955c4c36f81"
      },
      "id": "5fEmXxoF-Dct",
      "execution_count": null,
      "outputs": [
        {
          "output_type": "stream",
          "name": "stdout",
          "text": [
            "0          0\n",
            "1          0\n",
            "2          0\n",
            "3          0\n",
            "4          0\n",
            "        ... \n",
            "4003    <NA>\n",
            "4004    <NA>\n",
            "4005    <NA>\n",
            "4006    <NA>\n",
            "4007    <NA>\n",
            "Name: Number of Open Complaints, Length: 4008, dtype: Int64\n",
            "\n",
            "\n",
            "Int64\n"
          ]
        }
      ]
    },
    {
      "cell_type": "code",
      "source": [
        "# So now, let's look at our df:\n",
        "print(customer_data.head())\n",
        "\n",
        "print('\\n', '\\n', customer_data.info())"
      ],
      "metadata": {
        "colab": {
          "base_uri": "https://localhost:8080/"
        },
        "id": "MiAI1VcNAnat",
        "outputId": "633f3152-1cf9-4fc0-8a0f-b45430c0e3b9"
      },
      "id": "MiAI1VcNAnat",
      "execution_count": null,
      "outputs": [
        {
          "output_type": "stream",
          "name": "stdout",
          "text": [
            "  Customer          ST GENDER             Education  Customer Lifetime Value  \\\n",
            "0  RB50392  Washington    NaN                Master                      NaN   \n",
            "1  QZ44356     Arizona      F              Bachelor                6979.5359   \n",
            "2  AI49188      Nevada      F              Bachelor               12887.4317   \n",
            "3  WW63253  California      M              Bachelor                7645.8618   \n",
            "4  GA49547  Washington      M  High School or Below                5363.0765   \n",
            "\n",
            "    Income  Monthly Premium Auto  Number of Open Complaints     Policy Type  \\\n",
            "0      0.0                1000.0                          0   Personal Auto   \n",
            "1      0.0                  94.0                          0   Personal Auto   \n",
            "2  48767.0                 108.0                          0   Personal Auto   \n",
            "3      0.0                 106.0                          0  Corporate Auto   \n",
            "4  36357.0                  68.0                          0   Personal Auto   \n",
            "\n",
            "   Vehicle Class  Total Claim Amount  \n",
            "0  Four-Door Car            2.704934  \n",
            "1  Four-Door Car         1131.464935  \n",
            "2   Two-Door Car          566.472247  \n",
            "3            SUV          529.881344  \n",
            "4  Four-Door Car           17.269323  \n",
            "<class 'pandas.core.frame.DataFrame'>\n",
            "RangeIndex: 4008 entries, 0 to 4007\n",
            "Data columns (total 11 columns):\n",
            " #   Column                     Non-Null Count  Dtype  \n",
            "---  ------                     --------------  -----  \n",
            " 0   Customer                   1071 non-null   object \n",
            " 1   ST                         1071 non-null   object \n",
            " 2   GENDER                     954 non-null    object \n",
            " 3   Education                  1071 non-null   object \n",
            " 4   Customer Lifetime Value    1068 non-null   float64\n",
            " 5   Income                     1071 non-null   float64\n",
            " 6   Monthly Premium Auto       1071 non-null   float64\n",
            " 7   Number of Open Complaints  1071 non-null   Int64  \n",
            " 8   Policy Type                1071 non-null   object \n",
            " 9   Vehicle Class              1071 non-null   object \n",
            " 10  Total Claim Amount         1071 non-null   float64\n",
            "dtypes: Int64(1), float64(4), object(6)\n",
            "memory usage: 348.5+ KB\n",
            "\n",
            " \n",
            " None\n"
          ]
        }
      ]
    },
    {
      "cell_type": "code",
      "source": [
        "''' COMPREHENSION PERSONNELLE - NE PAS RUNNER POUR L'EXO '''\n",
        "\n",
        "# Sample DataFrame with 'complaints_column'\n",
        "data = {'complaints_column': ['1/0/00', '1/2/00', '1/1/00', '1/3/00', '1/5/00', '1/4/00', None]}\n",
        "your_dataframe = pd.DataFrame(data)\n",
        "\n",
        "# Extract the middle number and convert to integer\n",
        "your_dataframe['complaints_column'] = your_dataframe['complaints_column'].str.extract(r'/(\\d+)/').astype('Int64')\n",
        "\n",
        "# Print the result\n",
        "print(your_dataframe)"
      ],
      "metadata": {
        "colab": {
          "base_uri": "https://localhost:8080/"
        },
        "id": "imwDI5VP7Wkj",
        "outputId": "32789357-45e9-43e0-9ccc-da92bac8f89d"
      },
      "id": "imwDI5VP7Wkj",
      "execution_count": null,
      "outputs": [
        {
          "output_type": "stream",
          "name": "stdout",
          "text": [
            "   complaints_column\n",
            "0                  0\n",
            "1                  2\n",
            "2                  1\n",
            "3                  3\n",
            "4                  5\n",
            "5                  4\n",
            "6               <NA>\n"
          ]
        }
      ]
    },
    {
      "cell_type": "code",
      "source": [
        "''' COMPREHENSION PERSONNELLE - NE PAS RUNNER POUR L'EXO '''\n",
        "\n",
        "\n",
        "# Sample data\n",
        "data = {'complaints_column': ['1/0/00', '1/2/00', '1/1/00', '1/3/00', '1/5/00', '1/4/00', None]}\n",
        "your_dataframe = pd.DataFrame(data)\n",
        "\n",
        "# Extract the middle number using str.split\n",
        "your_dataframe['complaints_column'] = your_dataframe['complaints_column'].str.split('/').str[1]\n",
        "\n",
        "# Print the result\n",
        "print(your_dataframe)"
      ],
      "metadata": {
        "colab": {
          "base_uri": "https://localhost:8080/"
        },
        "id": "N0ytbNjn8Z6a",
        "outputId": "ceadb9f6-6851-4e6d-a3cf-cd269f1b4cac"
      },
      "id": "N0ytbNjn8Z6a",
      "execution_count": null,
      "outputs": [
        {
          "output_type": "stream",
          "name": "stdout",
          "text": [
            "  complaints_column\n",
            "0                 0\n",
            "1                 2\n",
            "2                 1\n",
            "3                 3\n",
            "4                 5\n",
            "5                 4\n",
            "6              None\n"
          ]
        }
      ]
    },
    {
      "cell_type": "code",
      "source": [
        "# Step 3: Identify the number of unique values for each column and determine which columns appear to be categorical.\n",
        "# You should also describe the unique values of each categorical column and the range of values for numerical columns, and give your insights.\n",
        "\n",
        "customer_data.nunique()\n",
        "#Reminder: customer_data.shape --> (4008, 11)\n",
        "\n",
        "#categorical: gender, policy type, vehicle class, education"
      ],
      "metadata": {
        "colab": {
          "base_uri": "https://localhost:8080/"
        },
        "id": "NSxyk8l8Cure",
        "outputId": "263a0abf-4384-474e-f80d-88acce461360"
      },
      "id": "NSxyk8l8Cure",
      "execution_count": null,
      "outputs": [
        {
          "output_type": "execute_result",
          "data": {
            "text/plain": [
              "Customer                     1071\n",
              "ST                              8\n",
              "GENDER                          5\n",
              "Education                       6\n",
              "Customer Lifetime Value      1027\n",
              "Income                        774\n",
              "Monthly Premium Auto          132\n",
              "Number of Open Complaints       6\n",
              "Policy Type                     3\n",
              "Vehicle Class                   6\n",
              "Total Claim Amount            761\n",
              "dtype: int64"
            ]
          },
          "metadata": {},
          "execution_count": 80
        }
      ]
    },
    {
      "cell_type": "markdown",
      "id": "4a703890-63db-4944-b7ab-95a4f8185120",
      "metadata": {
        "id": "4a703890-63db-4944-b7ab-95a4f8185120"
      },
      "source": [
        "## Challenge 2: analyzing the data"
      ]
    },
    {
      "cell_type": "markdown",
      "id": "0776a403-c56a-452f-ac33-5fd4fdb06fc7",
      "metadata": {
        "id": "0776a403-c56a-452f-ac33-5fd4fdb06fc7"
      },
      "source": [
        "### Exercise 1"
      ]
    },
    {
      "cell_type": "markdown",
      "id": "eedbc484-da4d-4f9c-9343-e1d44311a87e",
      "metadata": {
        "id": "eedbc484-da4d-4f9c-9343-e1d44311a87e"
      },
      "source": [
        "The marketing team wants to know the top 5 less common customer locations. Create a pandas Series object that contains the customer locations and their frequencies, and then retrieve the top 5 less common locations in ascending order."
      ]
    },
    {
      "cell_type": "code",
      "execution_count": 5,
      "id": "2dca5073-4520-4f42-9390-4b92733284ed",
      "metadata": {
        "id": "2dca5073-4520-4f42-9390-4b92733284ed",
        "colab": {
          "base_uri": "https://localhost:8080/"
        },
        "outputId": "c3744408-1a1a-40e9-ee11-39f768dfc251"
      },
      "outputs": [
        {
          "output_type": "stream",
          "name": "stdout",
          "text": [
            "Top 5 least common customer locations:\n",
            "Cali          120\n",
            "Nevada         98\n",
            "Washington     81\n",
            "WA             30\n",
            "AZ             25\n",
            "Name: ST, dtype: int64\n"
          ]
        }
      ],
      "source": [
        "import pandas as pd\n",
        "customer_data = pd.read_csv('https://raw.githubusercontent.com/data-bootcamp-v4/data/main/file1.csv')\n",
        "\n",
        "# Count the frequencies of each customer location\n",
        "location_freq = customer_data['ST'].value_counts()\n",
        "\n",
        "# Retrieve the top 5 least common locations in ascending order\n",
        "top_5_less_common = location_freq.tail(5)\n",
        "\n",
        "print(\"Top 5 least common customer locations:\")\n",
        "print(top_5_less_common)"
      ]
    },
    {
      "cell_type": "code",
      "source": [],
      "metadata": {
        "id": "gGJhEoFXwLZp"
      },
      "id": "gGJhEoFXwLZp",
      "execution_count": null,
      "outputs": []
    },
    {
      "cell_type": "markdown",
      "id": "0ce80f43-4afa-43c7-a78a-c917444da4e0",
      "metadata": {
        "id": "0ce80f43-4afa-43c7-a78a-c917444da4e0"
      },
      "source": [
        "### Exercise 2\n",
        "\n",
        "The sales team wants to know the total number of policies sold for each type of policy. Create a pandas Series object that contains the policy types and their total number of policies sold, and then retrieve the policy type with the highest number of policies sold."
      ]
    },
    {
      "cell_type": "markdown",
      "id": "a9f13997-1555-4f98-aca6-970fda1d2c3f",
      "metadata": {
        "id": "a9f13997-1555-4f98-aca6-970fda1d2c3f"
      },
      "source": [
        "*Hint:*\n",
        "- *Using value_counts() method simplifies this analysis.*\n",
        "- *Futhermore, there is a method that returns the index of the maximum value in a column or row.*\n"
      ]
    },
    {
      "cell_type": "code",
      "execution_count": 8,
      "id": "bcfad6c1-9af2-4b0b-9aa9-0dc5c17473c0",
      "metadata": {
        "id": "bcfad6c1-9af2-4b0b-9aa9-0dc5c17473c0",
        "colab": {
          "base_uri": "https://localhost:8080/"
        },
        "outputId": "f834bc30-1cdb-48f1-dda0-18f2b0e18251"
      },
      "outputs": [
        {
          "output_type": "stream",
          "name": "stdout",
          "text": [
            "Policy type with the highest number of policies sold: Personal Auto\n"
          ]
        }
      ],
      "source": [
        "# Your code here\n",
        "# Count the number of policies sold for each policy type\n",
        "policy_counts = customer_data['Policy Type'].value_counts()\n",
        "\n",
        "# Retrieve the policy type with the highest number of policies sold\n",
        "policy_with_highest_sales = policy_counts.idxmax()\n",
        "\n",
        "print(\"Policy type with the highest number of policies sold:\", policy_with_highest_sales)"
      ]
    },
    {
      "cell_type": "markdown",
      "id": "0b863fd3-bf91-4d5d-86eb-be29ed9f5b70",
      "metadata": {
        "id": "0b863fd3-bf91-4d5d-86eb-be29ed9f5b70"
      },
      "source": [
        "### Exercise 3\n",
        "\n",
        "The sales team wants to know if customers with Personal Auto have a lower income than those with Corporate Auto. How does the average income compare between the two policy types?"
      ]
    },
    {
      "cell_type": "markdown",
      "id": "b1386d75-2810-4aa1-93e0-9485aa12d552",
      "metadata": {
        "id": "b1386d75-2810-4aa1-93e0-9485aa12d552"
      },
      "source": [
        "- Use *loc* to create two dataframes: one containing only Personal Auto policies and one containing only Corporate Auto policies.\n",
        "- Calculate the average income for each policy.\n",
        "- Print the results."
      ]
    },
    {
      "cell_type": "code",
      "execution_count": 11,
      "id": "0c0563cf-6f8b-463d-a321-651a972f82e5",
      "metadata": {
        "id": "0c0563cf-6f8b-463d-a321-651a972f82e5",
        "colab": {
          "base_uri": "https://localhost:8080/"
        },
        "outputId": "e8b33ce2-e92e-467f-f584-3dde52df9fd5"
      },
      "outputs": [
        {
          "output_type": "stream",
          "name": "stdout",
          "text": [
            "Average income for Personal Auto policies:  38180.7 $\n",
            "Average income for Corporate Auto policies:  41390.31 $\n"
          ]
        }
      ],
      "source": [
        "# Your code here\n",
        "\n",
        "# Create separate DataFrames for Personal Auto and Corporate Auto policies\n",
        "personal_auto_df = customer_data.loc[customer_data['Policy Type'] == 'Personal Auto']\n",
        "corporate_auto_df = customer_data.loc[customer_data['Policy Type'] == 'Corporate Auto']\n",
        "\n",
        "# Calculate the average income for each policy type\n",
        "avg_income_personal_auto = round(personal_auto_df['Income'].mean(), 2)\n",
        "avg_income_corporate_auto = round(corporate_auto_df['Income'].mean(), 2)\n",
        "\n",
        "# Print the results\n",
        "print(\"Average income for Personal Auto policies: \", avg_income_personal_auto, \"$\")\n",
        "print(\"Average income for Corporate Auto policies: \", avg_income_corporate_auto, \"$\")"
      ]
    },
    {
      "cell_type": "markdown",
      "id": "80b16c27-f4a5-4727-a229-1f88671cf4e2",
      "metadata": {
        "id": "80b16c27-f4a5-4727-a229-1f88671cf4e2"
      },
      "source": [
        "### Bonus: Exercise 4\n"
      ]
    },
    {
      "cell_type": "markdown",
      "id": "ac584986-299b-475f-ac2e-928c16c3f512",
      "metadata": {
        "id": "ac584986-299b-475f-ac2e-928c16c3f512"
      },
      "source": [
        "Your goal is to identify customers with a high policy claim amount.\n",
        "\n",
        "Instructions:\n",
        "\n",
        "- Review again the statistics for total claim amount to gain an understanding of the data.\n",
        "- To identify potential areas for improving customer retention and profitability, we want to focus on customers with a high policy claim amount. Consider customers with a high policy claim amount to be those in the top 25% of the total claim amount. Create a pandas DataFrame object that contains information about customers with a policy claim amount greater than the 75th percentile.\n",
        "- Use DataFrame methods to calculate summary statistics about the high policy claim amount data."
      ]
    },
    {
      "cell_type": "markdown",
      "id": "4e3af5f1-6023-4b05-9c01-d05392daa650",
      "metadata": {
        "id": "4e3af5f1-6023-4b05-9c01-d05392daa650"
      },
      "source": [
        "*Note: When analyzing data, we often want to focus on certain groups of values to gain insights. Percentiles are a useful tool to help us define these groups. A percentile is a measure that tells us what percentage of values in a dataset are below a certain value. For example, the 75th percentile represents the value below which 75% of the data falls. Similarly, the 25th percentile represents the value below which 25% of the data falls. When we talk about the top 25%, we are referring to the values that fall above the 75th percentile, which represent the top quarter of the data. On the other hand, when we talk about the bottom 25%, we are referring to the values that fall below the 25th percentile, which represent the bottom quarter of the data. By focusing on these groups, we can identify patterns and trends that may be useful for making decisions and taking action.*\n",
        "\n",
        "*Hint: look for a method that gives you the percentile or quantile 0.75 and 0.25 for a Pandas Series.*"
      ]
    },
    {
      "cell_type": "markdown",
      "id": "2d234634-50bd-41e0-88f7-d5ba684455d1",
      "metadata": {
        "id": "2d234634-50bd-41e0-88f7-d5ba684455d1"
      },
      "source": [
        "*Hint 2: check `Boolean selection according to the values of a single column` in https://towardsdatascience.com/filtering-data-frames-in-pandas-b570b1f834b9*"
      ]
    },
    {
      "cell_type": "code",
      "execution_count": null,
      "id": "b731bca6-a760-4860-a27b-a33efa712ce0",
      "metadata": {
        "id": "b731bca6-a760-4860-a27b-a33efa712ce0"
      },
      "outputs": [],
      "source": [
        "# Your code here"
      ]
    }
  ],
  "metadata": {
    "kernelspec": {
      "display_name": "Python 3 (ipykernel)",
      "language": "python",
      "name": "python3"
    },
    "language_info": {
      "codemirror_mode": {
        "name": "ipython",
        "version": 3
      },
      "file_extension": ".py",
      "mimetype": "text/x-python",
      "name": "python",
      "nbconvert_exporter": "python",
      "pygments_lexer": "ipython3",
      "version": "3.9.13"
    },
    "colab": {
      "provenance": []
    }
  },
  "nbformat": 4,
  "nbformat_minor": 5
}